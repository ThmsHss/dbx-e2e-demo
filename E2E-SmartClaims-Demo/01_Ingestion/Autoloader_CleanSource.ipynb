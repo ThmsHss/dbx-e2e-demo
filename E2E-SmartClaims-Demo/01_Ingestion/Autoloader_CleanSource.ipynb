{
 "cells": [
  {
   "cell_type": "code",
   "execution_count": 0,
   "metadata": {
    "application/vnd.databricks.v1+cell": {
     "cellMetadata": {
      "byteLimit": 2048000,
      "rowLimit": 10000
     },
     "inputWidgets": {},
     "nuid": "282ebfcb-9267-4cc0-8109-d0679f83b058",
     "showTitle": false,
     "tableResultSettingsMap": {},
     "title": ""
    }
   },
   "outputs": [],
   "source": [
    "# Define paths\n",
    "landing_catalog = \"smart_claims_dev\"\n",
    "landing_schema = \"00_landing\"\n",
    "\n",
    "base_path = f\"/Volumes/{landing_catalog}/{landing_schema}/claims\"\n",
    "source_path = f\"{base_path}/images\"\n",
    "archive_path = f\"{base_path}/archive\"\n",
    "metadata_path = f\"{base_path}/autoloader_metadata\"\n",
    "\n",
    "# Archive configs\n",
    "archive_configs = {\n",
    "    \"cloudFiles.cleanSource\": \"MOVE\", # OR DELETE\n",
    "    \"cloudFiles.cleanSource.retentionDuration\": \"1 minute\", # MOVE AFTER 1 MIN - FOR DELETE MIN. 7 DAYS\n",
    "    \"cloudFiles.cleanSource.moveDestination\": archive_path\n",
    "}\n",
    "\n",
    "claim_images_df = (\n",
    "    spark.readStream\n",
    "    .format(\"cloudFiles\")\n",
    "    .option(\"cloudFiles.format\", \"binaryFile\")\n",
    "    .option(\"cloudFiles.schemaLocation\", f\"{metadata_path}/_schema\")\n",
    "    .options(**archive_configs)\n",
    "    .load(source_path)\n",
    ")\n",
    "\n",
    "(\n",
    "    claim_images_df.writeStream\n",
    "    .option(\"checkpointLocation\", f\"{metadata_path}/_checkpoint5\")\n",
    "    .trigger(availableNow=True)\n",
    "    .toTable(\"smart_claims_dev.01_bronze.claim_images\")\n",
    ")"
   ]
  }
 ],
 "metadata": {
  "application/vnd.databricks.v1+notebook": {
   "computePreferences": null,
   "dashboards": [],
   "environmentMetadata": {
    "base_environment": "",
    "environment_version": "2"
   },
   "inputWidgetPreferences": null,
   "language": "python",
   "notebookMetadata": {
    "pythonIndentUnit": 4
   },
   "notebookName": "Autoloader_CleanSource",
   "widgets": {}
  },
  "language_info": {
   "name": "python"
  }
 },
 "nbformat": 4,
 "nbformat_minor": 0
}
