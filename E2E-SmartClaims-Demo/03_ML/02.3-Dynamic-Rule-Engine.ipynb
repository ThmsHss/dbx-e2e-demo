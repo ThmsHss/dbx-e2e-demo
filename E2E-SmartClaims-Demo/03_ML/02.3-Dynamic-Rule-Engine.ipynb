{
 "cells": [
  {
   "cell_type": "markdown",
   "metadata": {
    "application/vnd.databricks.v1+cell": {
     "cellMetadata": {},
     "inputWidgets": {},
     "nuid": "f464eb78-ce4b-4b91-9a2c-298e9627e94a",
     "showTitle": false,
     "tableResultSettingsMap": {},
     "title": ""
    }
   },
   "source": [
    "# Speedup decision process with a Rules Engine \n",
    "\n",
    "To accelerate our claims decision process, we can setup pre-defined static checks that can be applied without requiring a human in the loop.\n",
    "\n",
    "These rules will leverage our previous Deep Learning image analysis. \n",
    "\n",
    "Typically, minor damage can be automatically validated, but if the reported damage doesn't match what our AI model found, we'll flag the claim to involve additional human investigation (Checks on policy coverage, assessed severity, accident location and speed limit violations)\n",
    "\n",
    "## Implementing Dynamic rules\n",
    "\n",
    "Many system exists to build such rules. These can be natively implemented in Spark or using Delta Live Table (check `dbdemos.install('dlt-unit-test')` for an example of dynamic DLT rules)\n",
    "\n",
    "In this simple example, we'll add our rules as SQL statement in a table table and then apply them over our dataset.\n",
    "\n",
    "This will allow our business to easily add / edit rules by simply adding a SQL entry to our table.\n",
    "\n",
    "* Rule definition inludes:\n",
    "  * Unique Rule name/id\n",
    "  * Definition of acceptable and not aceptable data - written as code that can be directly applied\n",
    "  * Severity (HIGH, MEDIUM, LOW)\n",
    "  * Is Active (True/False)\n",
    "\n",
    "* Some common checks include\n",
    "  * Claim date should be within coverage period\n",
    "  * Reported Severity should match ML predicted severity\n",
    "  * Accident Location as reported by telematics data should match the location as reported in claim\n",
    "  * Speed limit as reported by telematics should be within speed limits of that region if there is a dispute on who was on the offense \n",
    "\n",
    "\n",
    "  <img width=\"800px\" src=\"https://raw.githubusercontent.com/databricks-demos/dbdemos-resources/main/images/fsi/smart-claims/rule_engine.png\" />\n",
    "\n",
    "\n",
    "<!-- Collect usage data (view). Remove it to disable collection or disable tracker during installation. View README for more details.  -->\n",
    "<img width=\"1px\" src=\"https://ppxrzfxige.execute-api.us-west-2.amazonaws.com/v1/analytics?category=lakehouse&org_id=984752964297111&notebook=%2F02-Data-Science-ML%2F02.3-Dynamic-Rule-Engine&demo_name=lakehouse-fsi-smart-claims&event=VIEW&path=%2F_dbdemos%2Flakehouse%2Flakehouse-fsi-smart-claims%2F02-Data-Science-ML%2F02.3-Dynamic-Rule-Engine&version=1&user_hash=3d9550665f4179aba1791a587dee6d56e218186d3a057ad2d2c3ad58a351ed5c\">"
   ]
  },
  {
   "cell_type": "markdown",
   "metadata": {
    "application/vnd.databricks.v1+cell": {
     "cellMetadata": {},
     "inputWidgets": {},
     "nuid": "50d708cc-9dca-4721-9738-d906a63348e3",
     "showTitle": false,
     "tableResultSettingsMap": {},
     "title": null
    }
   },
   "source": [
    "### A cluster has been created for this demo\n",
    "To run this demo, just select the cluster `dbdemos-lakehouse-fsi-smart-claims-thomas_hass` from the dropdown menu ([open cluster configuration](https://adb-984752964297111.11.azuredatabricks.net/#setting/clusters/0802-065525-9zzx4cdb/configuration)). <br />\n",
    "*Note: If the cluster was deleted after 30 days, you can re-create it with `dbdemos.create_cluster('lakehouse-fsi-smart-claims')` or re-install the demo: `dbdemos.install('lakehouse-fsi-smart-claims')`*"
   ]
  },
  {
   "cell_type": "code",
   "execution_count": 0,
   "metadata": {
    "application/vnd.databricks.v1+cell": {
     "cellMetadata": {},
     "inputWidgets": {},
     "nuid": "006cf406-e60c-4feb-ac4f-fb72df101aea",
     "showTitle": false,
     "tableResultSettingsMap": {},
     "title": ""
    },
    "jupyter": {
     "outputs_hidden": true
    }
   },
   "outputs": [],
   "source": [
    "%run ../_resources/00-setup"
   ]
  },
  {
   "cell_type": "code",
   "execution_count": 0,
   "metadata": {
    "application/vnd.databricks.v1+cell": {
     "cellMetadata": {},
     "inputWidgets": {},
     "nuid": "3e9e77dd-6ee8-4f97-b91f-8a3e9560a601",
     "showTitle": false,
     "tableResultSettingsMap": {},
     "title": ""
    }
   },
   "outputs": [],
   "source": [
    "%sql\n",
    "CREATE OR REPLACE TABLE claims_rules (\n",
    "  rule_id BIGINT GENERATED ALWAYS AS IDENTITY,\n",
    "  rule STRING, \n",
    "  check_name STRING,\n",
    "  check_code STRING,\n",
    "  check_severity STRING,\n",
    "  is_active Boolean\n",
    ");\n",
    "ALTER TABLE claims_rules SET OWNER TO `account users`;"
   ]
  },
  {
   "cell_type": "markdown",
   "metadata": {
    "application/vnd.databricks.v1+cell": {
     "cellMetadata": {},
     "inputWidgets": {},
     "nuid": "f57c29f8-062b-47f9-9f9a-27224d6ee568",
     "showTitle": false,
     "tableResultSettingsMap": {},
     "title": ""
    }
   },
   "source": [
    "## Creating our Rules"
   ]
  },
  {
   "cell_type": "markdown",
   "metadata": {
    "application/vnd.databricks.v1+cell": {
     "cellMetadata": {},
     "inputWidgets": {},
     "nuid": "fd1808e0-3700-4bb7-b6ce-401508157efa",
     "showTitle": false,
     "tableResultSettingsMap": {},
     "title": ""
    }
   },
   "source": [
    "### Invalid Policy Date"
   ]
  },
  {
   "cell_type": "code",
   "execution_count": 0,
   "metadata": {
    "application/vnd.databricks.v1+cell": {
     "cellMetadata": {},
     "inputWidgets": {},
     "nuid": "daf49790-b392-4744-981a-4964c81bb2ac",
     "showTitle": false,
     "tableResultSettingsMap": {},
     "title": ""
    }
   },
   "outputs": [],
   "source": [
    "def insert_rule(rule, name, code, severity, is_active):\n",
    "  spark.sql(f\"INSERT INTO claims_rules(rule,check_name, check_code, check_severity,is_active) values('{rule}', '{name}', '{code}', '{severity}', {is_active})\")\n",
    "\n",
    "invalid_policy_date = '''\n",
    "  CASE WHEN to_date(pol_eff_date, \"yyyy-MM-dd\") < to_date(claim_date) and to_date(pol_expiry_date, \"yyyy-MM-dd\") < to_date(claim_date) THEN \"VALID\" \n",
    "  ELSE \"NOT VALID\"  \n",
    "  END\n",
    "'''\n",
    "\n",
    "insert_rule('invalid policy date', 'valid_date', invalid_policy_date, 'HIGH', True)"
   ]
  },
  {
   "cell_type": "markdown",
   "metadata": {
    "application/vnd.databricks.v1+cell": {
     "cellMetadata": {},
     "inputWidgets": {},
     "nuid": "ce581a2f-43d2-4549-a8d7-afee03378f43",
     "showTitle": false,
     "tableResultSettingsMap": {},
     "title": ""
    }
   },
   "source": [
    "### Exceeds Policy Amount"
   ]
  },
  {
   "cell_type": "code",
   "execution_count": 0,
   "metadata": {
    "application/vnd.databricks.v1+cell": {
     "cellMetadata": {},
     "inputWidgets": {},
     "nuid": "d46bbf9d-c7c8-440d-a7ac-a424eb4f8046",
     "showTitle": false,
     "tableResultSettingsMap": {},
     "title": ""
    }
   },
   "outputs": [],
   "source": [
    "exceeds_policy_amount = '''\n",
    "CASE WHEN  sum_insured >= claim_amount_total \n",
    "    THEN \"calim value in the range of premium\"\n",
    "    ELSE \"claim value more than premium\"\n",
    "END \n",
    "'''\n",
    "insert_rule('exceeds policy amount', 'valid_amount', exceeds_policy_amount, 'HIGH', True)"
   ]
  },
  {
   "cell_type": "markdown",
   "metadata": {
    "application/vnd.databricks.v1+cell": {
     "cellMetadata": {},
     "inputWidgets": {},
     "nuid": "55a47524-8775-4dff-97cd-7314cf1fe52b",
     "showTitle": false,
     "tableResultSettingsMap": {},
     "title": ""
    }
   },
   "source": [
    "### Severity Mismatch"
   ]
  },
  {
   "cell_type": "code",
   "execution_count": 0,
   "metadata": {
    "application/vnd.databricks.v1+cell": {
     "cellMetadata": {},
     "inputWidgets": {},
     "nuid": "4f8d7ac5-eccc-4963-b23a-fdfd2a16472f",
     "showTitle": false,
     "tableResultSettingsMap": {},
     "title": ""
    }
   },
   "outputs": [],
   "source": [
    "severity_mismatch = '''\n",
    "CASE WHEN    damage_prediction.label=\"major\" AND incident_severity > 0.8 THEN  \"Severity matches the report\"\n",
    "       WHEN  damage_prediction.label=\"minor\" AND incident_severity > 0.6 THEN  \"Severity matches the report\"\n",
    "       WHEN  damage_prediction.label=\"ok\" AND incident_severity > 0.4 THEN  \"Severity matches the report\"\n",
    "       ELSE \"Severity does not match\"\n",
    "END \n",
    "'''\n",
    "\n",
    "insert_rule('severity mismatch', 'reported_severity_check', severity_mismatch, 'HIGH', True)"
   ]
  },
  {
   "cell_type": "markdown",
   "metadata": {
    "application/vnd.databricks.v1+cell": {
     "cellMetadata": {},
     "inputWidgets": {},
     "nuid": "b1cc9c20-a086-417d-aecb-1af22280992b",
     "showTitle": false,
     "tableResultSettingsMap": {},
     "title": ""
    }
   },
   "source": [
    "### Exceeds Speed"
   ]
  },
  {
   "cell_type": "code",
   "execution_count": 0,
   "metadata": {
    "application/vnd.databricks.v1+cell": {
     "cellMetadata": {},
     "inputWidgets": {},
     "nuid": "6cd7f44e-e562-4f27-81fc-b9851cb8d2ca",
     "showTitle": false,
     "tableResultSettingsMap": {},
     "title": ""
    }
   },
   "outputs": [],
   "source": [
    "exceeds_speed = '''\n",
    "CASE WHEN  telematics_speed <= 45 and telematics_speed > 0 THEN  \"Normal Speed\"\n",
    "       WHEN telematics_speed > 45 THEN  \"High Speed\"\n",
    "       ELSE \"Invalid speed\"\n",
    "END\n",
    "'''\n",
    "insert_rule('exceeds speed', 'speed_check', exceeds_speed, 'HIGH', True)"
   ]
  },
  {
   "cell_type": "code",
   "execution_count": 0,
   "metadata": {
    "application/vnd.databricks.v1+cell": {
     "cellMetadata": {},
     "inputWidgets": {},
     "nuid": "4cae8fdb-50dc-4dde-b5f0-0806e628069a",
     "showTitle": false,
     "tableResultSettingsMap": {},
     "title": ""
    }
   },
   "outputs": [],
   "source": [
    "release_funds = '''\n",
    "CASE WHEN  reported_severity_check=\"Severity matches the report\" and valid_amount=\"calim value in the range of premium\" and valid_date=\"VALID\" then \"release funds\"\n",
    "       ELSE \"claim needs more investigation\" \n",
    "END\n",
    "'''\n",
    "insert_rule('release funds', 'speed_check', release_funds, 'HIGH', True)"
   ]
  },
  {
   "cell_type": "markdown",
   "metadata": {
    "application/vnd.databricks.v1+cell": {
     "cellMetadata": {},
     "inputWidgets": {},
     "nuid": "3c617db6-a402-48c2-a743-3a6eafc7e9af",
     "showTitle": false,
     "tableResultSettingsMap": {},
     "title": ""
    }
   },
   "source": [
    "## Dynamic Application of Rules "
   ]
  },
  {
   "cell_type": "code",
   "execution_count": 0,
   "metadata": {
    "application/vnd.databricks.v1+cell": {
     "cellMetadata": {},
     "inputWidgets": {},
     "nuid": "9b6d2622-0f90-4c00-b07a-3742a07fefb7",
     "showTitle": false,
     "tableResultSettingsMap": {},
     "title": ""
    }
   },
   "outputs": [],
   "source": [
    "df = spark.sql(\"SELECT * FROM claim_policy_accident\")\n",
    "display(df.limit(10))"
   ]
  },
  {
   "cell_type": "code",
   "execution_count": 0,
   "metadata": {
    "application/vnd.databricks.v1+cell": {
     "cellMetadata": {},
     "inputWidgets": {},
     "nuid": "789fbe12-27d8-4965-b136-87e004dab3ef",
     "showTitle": false,
     "tableResultSettingsMap": {},
     "title": ""
    }
   },
   "outputs": [],
   "source": [
    "rules = spark.sql('SELECT * FROM claims_rules where is_active=true order by rule_id').collect()\n",
    "for rule in rules:\n",
    "  print(rule.rule, rule.check_code)\n",
    "  df=df.withColumn(rule.check_name, F.expr(rule.check_code))\n",
    "\n",
    "#overwrite table with new insights\n",
    "df.write.mode(\"overwrite\").option(\"overwriteSchema\", \"true\").saveAsTable(\"claim_insights\")"
   ]
  },
  {
   "cell_type": "code",
   "execution_count": 0,
   "metadata": {
    "application/vnd.databricks.v1+cell": {
     "cellMetadata": {},
     "inputWidgets": {},
     "nuid": "d9fe8269-7636-49c1-95d0-d188615cb8c5",
     "showTitle": false,
     "tableResultSettingsMap": {},
     "title": ""
    }
   },
   "outputs": [],
   "source": [
    "%sql\n",
    "SELECT valid_date, valid_amount, reported_severity_check FROM claim_insights"
   ]
  },
  {
   "cell_type": "markdown",
   "metadata": {
    "application/vnd.databricks.v1+cell": {
     "cellMetadata": {},
     "inputWidgets": {},
     "nuid": "44edaa38-4046-4e66-8259-52b7fac2543f",
     "showTitle": false,
     "tableResultSettingsMap": {},
     "title": ""
    }
   },
   "source": [
    "\n",
    "Some data points can be checked out easily using <b>simple rules</b>, others may require <b>ML models </b>to score the data to produce the desired insights. In this notebook and the previous one, we have demonstrated how the insights generated from both can be consolidated into <b> structured </b> tabular data for easy consumption from a <b> dashboard </b> by various stakeholders including executives and investigation officers who use the same data but for completely different purposes. <br>\n",
    "Moreover, all these insights are well-secured by <b> Unity Catalog </b>. So if the data, model, or insight is sensitive and is meant for select audiences then using a few simple 'GRANT' statements can ensure that it is adequately protected and is never accidentally exposed to the wrong party. Dynamic masking can be used to hide PII data. In the next notebook, we'll see how we can put all of this on auto-drive using Databricks workflows."
   ]
  }
 ],
 "metadata": {
  "application/vnd.databricks.v1+notebook": {
   "computePreferences": null,
   "dashboards": [],
   "environmentMetadata": {
    "environment_version": "2"
   },
   "inputWidgetPreferences": null,
   "language": "python",
   "notebookMetadata": {
    "pythonIndentUnit": 2
   },
   "notebookName": "02.3-Dynamic-Rule-Engine",
   "widgets": {}
  },
  "language_info": {
   "name": "python"
  }
 },
 "nbformat": 4,
 "nbformat_minor": 0
}
